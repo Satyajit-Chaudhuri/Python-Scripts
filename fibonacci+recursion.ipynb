{
 "cells": [
  {
   "cell_type": "markdown",
   "id": "915475f3",
   "metadata": {},
   "source": [
    "# Fibonacci Sequence with Recursion"
   ]
  },
  {
   "cell_type": "markdown",
   "id": "28374050",
   "metadata": {},
   "source": [
    "*In mathematics, the Fibonacci numbers, form a sequence, the Fibonacci sequence, in which each number is the sum of the two preceding ones. The sequence commonly starts from 0 and 1, the next few values in the sequence are:*\n",
    "\n",
    "*0, 1, 1, 2, 3, 5, 8, 13, 21, 34, 55, 89, 144, ...*"
    
   ]
  },
  {
   "cell_type": "code",
   "execution_count": 8,
   "id": "50269f09",
   "metadata": {},
   "outputs": [],
   "source": [
    "def fibonacci(n):\n",
    "    assert n >=0 and int(n) == n , 'Fibonacci number cannot be negative number or non integer.'\n",
    "    if n in [0,1]:\n",
    "        return n\n",
    "    else:\n",
    "        return fibonacci(n-1) + fibonacci(n-2)\n"
   ]
  },
  {
   "cell_type": "code",
   "execution_count": 11,
   "id": "acb40092",
   "metadata": {
    "scrolled": false
   },
   "outputs": [
    {
     "name": "stdout",
     "output_type": "stream",
     "text": [
      "Fibonacci index :   7\n"
     ]
    }
   ],
   "source": [
    "entry= int(input(\"Fibonacci index :   \"))"
   ]
  },
  {
   "cell_type": "code",
   "execution_count": 12,
   "id": "b426ef3c",
   "metadata": {},
   "outputs": [
    {
     "data": {
      "text/plain": [
       "13"
      ]
     },
     "execution_count": 12,
     "metadata": {},
     "output_type": "execute_result"
    }
   ],
   "source": [
    "fibonacci(entry)"
   ]
  },
  {
   "cell_type": "code",
   "execution_count": null,
   "id": "ecaee02b",
   "metadata": {},
   "outputs": [],
   "source": []
  }
 ],
 "metadata": {
  "kernelspec": {
   "display_name": "Python 3 (ipykernel)",
   "language": "python",
   "name": "python3"
  },
  "language_info": {
   "codemirror_mode": {
    "name": "ipython",
    "version": 3
   },
   "file_extension": ".py",
   "mimetype": "text/x-python",
   "name": "python",
   "nbconvert_exporter": "python",
   "pygments_lexer": "ipython3",
   "version": "3.9.7"
  }
 },
 "nbformat": 4,
 "nbformat_minor": 5
}
