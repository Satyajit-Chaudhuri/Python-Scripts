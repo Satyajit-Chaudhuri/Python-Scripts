{
 "cells": [
  {
   "cell_type": "markdown",
   "id": "e1ce8248",
   "metadata": {},
   "source": [
    "# Sum of digits with Recursion"
   ]
  },
  {
   "cell_type": "code",
   "execution_count": 1,
   "id": "7630a81d",
   "metadata": {},
   "outputs": [],
   "source": [
    "#Let's define a function to carry out the sum of the digits in a non-negative integer.\n",
    "def sumdigits(num):\n",
    "    n = int(num)\n",
    "    assert  n>=0, 'The number should be positive integer'\n",
    "    if n == 0:\n",
    "        return 0\n",
    "    else:\n",
    "        return n%10 + int(sumdigits(n/10))"
   ]
  },
  {
   "cell_type": "code",
   "execution_count": 2,
   "id": "6563b949",
   "metadata": {},
   "outputs": [
    {
     "name": "stdout",
     "output_type": "stream",
     "text": [
      "Enter the number: 1234\n"
     ]
    }
   ],
   "source": [
    "#Let's take an input from the user.\n",
    "entry = input(\"Enter the number: \")"
   ]
  },
  {
   "cell_type": "code",
   "execution_count": 3,
   "id": "4a1a9373",
   "metadata": {},
   "outputs": [
    {
     "data": {
      "text/plain": [
       "10"
      ]
     },
     "execution_count": 3,
     "metadata": {},
     "output_type": "execute_result"
    }
   ],
   "source": [
    "#Let's call the function to execute the input\n",
    "sumdigits(entry)"
   ]
  },
  {
   "cell_type": "markdown",
   "id": "ea75e871",
   "metadata": {},
   "source": [
    "## Thanks!"
   ]
  },
  {
   "cell_type": "code",
   "execution_count": null,
   "id": "f7ea2e52",
   "metadata": {},
   "outputs": [],
   "source": []
  }
 ],
 "metadata": {
  "kernelspec": {
   "display_name": "Python 3 (ipykernel)",
   "language": "python",
   "name": "python3"
  },
  "language_info": {
   "codemirror_mode": {
    "name": "ipython",
    "version": 3
   },
   "file_extension": ".py",
   "mimetype": "text/x-python",
   "name": "python",
   "nbconvert_exporter": "python",
   "pygments_lexer": "ipython3",
   "version": "3.9.7"
  }
 },
 "nbformat": 4,
 "nbformat_minor": 5
}
